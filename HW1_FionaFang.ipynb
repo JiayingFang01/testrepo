{
 "cells": [
  {
   "cell_type": "markdown",
   "metadata": {
    "application/vnd.databricks.v1+cell": {
     "cellMetadata": {},
     "inputWidgets": {},
     "nuid": "fedb19af-9a51-4558-9e38-bb5d60760a26",
     "showTitle": false,
     "title": ""
    },
    "id": "zY3YPBYwN36b"
   },
   "source": [
    "# HW 1: Getting to know Python's Pandas and Matplotlib libraries\n",
    "\n",
    "Student name: Fiona Fang"
   ]
  },
  {
   "cell_type": "markdown",
   "metadata": {
    "application/vnd.databricks.v1+cell": {
     "cellMetadata": {},
     "inputWidgets": {},
     "nuid": "e53c91e9-7f12-45c6-ab2a-7b47dccd663a",
     "showTitle": false,
     "title": ""
    },
    "id": "SWEAbxaEOHpv"
   },
   "source": [
    "# Part A:\n"
   ]
  },
  {
   "cell_type": "markdown",
   "metadata": {
    "application/vnd.databricks.v1+cell": {
     "cellMetadata": {},
     "inputWidgets": {},
     "nuid": "93fe18f4-a0b4-439c-a56a-7276cc20aa46",
     "showTitle": false,
     "title": ""
    },
    "id": "gGovMAR3PLET"
   },
   "source": [
    "## 1. Find the url for the mtcars dataset\n"
   ]
  },
  {
   "cell_type": "code",
   "execution_count": 0,
   "metadata": {
    "application/vnd.databricks.v1+cell": {
     "cellMetadata": {},
     "inputWidgets": {},
     "nuid": "7bb08137-7613-4cc9-9189-58af6ce3fe9e",
     "showTitle": false,
     "title": ""
    },
    "id": "sHNaRcGwqw8e"
   },
   "outputs": [],
   "source": [
    "#Import Python Libraries\n",
    "import numpy as np\n",
    "import scipy as sp\n",
    "import pandas as pd\n",
    "import matplotlib as mpl\n",
    "import seaborn as sns\n"
   ]
  },
  {
   "cell_type": "code",
   "execution_count": 0,
   "metadata": {
    "application/vnd.databricks.v1+cell": {
     "cellMetadata": {},
     "inputWidgets": {},
     "nuid": "6fb5bb7d-51f4-41e0-ab45-1a0c2a23942e",
     "showTitle": false,
     "title": ""
    },
    "id": "MhMcKpRTqzI-"
   },
   "outputs": [],
   "source": [
    "#Read csv file\n",
    "df = pd.read_csv(\"https://vincentarelbundock.github.io/Rdatasets/csv/datasets/mtcars.csv\")\n"
   ]
  },
  {
   "cell_type": "markdown",
   "metadata": {
    "application/vnd.databricks.v1+cell": {
     "cellMetadata": {},
     "inputWidgets": {},
     "nuid": "5b703bdf-0ab7-4a28-895b-3f0f47d56574",
     "showTitle": false,
     "title": ""
    },
    "id": "ab2MfuGxPFBD"
   },
   "source": [
    "## 2. Display the first five rows of the data"
   ]
  },
  {
   "cell_type": "code",
   "execution_count": 0,
   "metadata": {
    "application/vnd.databricks.v1+cell": {
     "cellMetadata": {},
     "inputWidgets": {},
     "nuid": "aca6fae2-0076-4779-877d-bc89b50c0d12",
     "showTitle": false,
     "title": ""
    },
    "colab": {
     "base_uri": "https://localhost:8080/",
     "height": 206
    },
    "id": "24lc9RwMqrwn",
    "outputId": "83898af2-aef9-4847-8771-9d8c2e19c20e"
   },
   "outputs": [],
   "source": [
    "# List first 5 records\n",
    "df.head(5)\n"
   ]
  },
  {
   "cell_type": "markdown",
   "metadata": {
    "application/vnd.databricks.v1+cell": {
     "cellMetadata": {},
     "inputWidgets": {},
     "nuid": "471f3c34-73fa-4e5d-aba3-601ee6c49987",
     "showTitle": false,
     "title": ""
    },
    "id": "DLquakDsPkyJ"
   },
   "source": [
    "## 3. Calculate the average of the mpg column for all cars within each category of the cyl column"
   ]
  },
  {
   "cell_type": "code",
   "execution_count": 0,
   "metadata": {
    "application/vnd.databricks.v1+cell": {
     "cellMetadata": {},
     "inputWidgets": {},
     "nuid": "a6713fbc-a0eb-4740-9e4c-bc701b6c378e",
     "showTitle": false,
     "title": ""
    },
    "colab": {
     "base_uri": "https://localhost:8080/",
     "height": 175
    },
    "id": "mAEf3gcpqry0",
    "outputId": "fd0d9496-5338-4285-f1f2-170c8ccd289a"
   },
   "outputs": [],
   "source": [
    "# Calculate the mean of the mpg for each cyl column\n",
    "df.groupby('cyl')[['mpg']].mean()\n"
   ]
  },
  {
   "cell_type": "markdown",
   "metadata": {
    "application/vnd.databricks.v1+cell": {
     "cellMetadata": {},
     "inputWidgets": {},
     "nuid": "75fd5d67-6e86-469a-8210-55c8b08b3ea0",
     "showTitle": false,
     "title": ""
    },
    "id": "HrzEiMdoREAZ"
   },
   "source": [
    "## 4. Create a histogram using the mpg column"
   ]
  },
  {
   "cell_type": "code",
   "execution_count": 0,
   "metadata": {
    "application/vnd.databricks.v1+cell": {
     "cellMetadata": {},
     "inputWidgets": {},
     "nuid": "d1aa06d1-e296-4990-8b03-d483c1468e59",
     "showTitle": false,
     "title": ""
    },
    "colab": {
     "base_uri": "https://localhost:8080/",
     "height": 467
    },
    "id": "zUklg6BMqr5l",
    "outputId": "78cc194d-6f85-4718-9bc7-469a4e0ddfed"
   },
   "outputs": [],
   "source": [
    "# Create a histogram using the mpg column\n",
    "from matplotlib import pyplot as plt\n",
    "\n",
    "df['mpg'].hist()\n",
    "plt.xlabel('Miles per (US) Gallon')\n",
    "plt.ylabel('Count')\n"
   ]
  },
  {
   "cell_type": "markdown",
   "metadata": {
    "application/vnd.databricks.v1+cell": {
     "cellMetadata": {},
     "inputWidgets": {},
     "nuid": "96256c12-5507-4ebc-a1c5-dd88b3c2b982",
     "showTitle": false,
     "title": ""
    },
    "id": "uftEPDPpR-Al"
   },
   "source": [
    "## 5. Choose two variables in the data and create a scatterplot"
   ]
  },
  {
   "cell_type": "code",
   "execution_count": 0,
   "metadata": {
    "application/vnd.databricks.v1+cell": {
     "cellMetadata": {},
     "inputWidgets": {},
     "nuid": "ce9d6737-2f90-41cc-be8c-9d8f6852135c",
     "showTitle": false,
     "title": ""
    },
    "colab": {
     "base_uri": "https://localhost:8080/",
     "height": 490
    },
    "id": "Yrkv3LmGqr99",
    "outputId": "6dc938ea-8012-4b94-98cb-d03ab25cd9b0"
   },
   "outputs": [],
   "source": [
    "# Create a scatterplots using mpg and wt columns\n",
    "plt.scatter(df['wt'], df['mpg'])\n",
    "plt.title(\"Miles per Gallon and Car Weight\")\n",
    "plt.xlabel(\"Weight of cars (1000 lbs)\")\n",
    "plt.ylabel(\"Miles per (US) gallon\")\n"
   ]
  },
  {
   "cell_type": "markdown",
   "metadata": {
    "application/vnd.databricks.v1+cell": {
     "cellMetadata": {},
     "inputWidgets": {},
     "nuid": "a3d90695-c3a7-4b5a-b078-6adb1f017a6a",
     "showTitle": false,
     "title": ""
    },
    "id": "LENcWVlcXTRh"
   },
   "source": [
    "# Part B:"
   ]
  },
  {
   "cell_type": "markdown",
   "metadata": {
    "application/vnd.databricks.v1+cell": {
     "cellMetadata": {},
     "inputWidgets": {},
     "nuid": "c9b102cf-8925-4276-9720-c4b08c7435f1",
     "showTitle": false,
     "title": ""
    },
    "id": "2IoWShLTXWWK"
   },
   "source": [
    "## 1. Find a tabular dataset that interests you that has \"tidy\" data"
   ]
  },
  {
   "cell_type": "markdown",
   "metadata": {
    "application/vnd.databricks.v1+cell": {
     "cellMetadata": {},
     "inputWidgets": {},
     "nuid": "4e7e059c-80cc-43e6-8dd0-a77799195f90",
     "showTitle": false,
     "title": ""
    },
    "id": "-uqvA97_BuI8"
   },
   "source": [
    "The Gapminder dataset contains statistics and other information about social, economic and environmental development for 193 countries. This dataset encompasses various key variables, including:\n",
    "\n",
    "- country: The name of the country\n",
    "- region: Categorized into Africa, Americas, Asia, or Europe\n",
    "- income: Income per person based on the gross domestic product per person, adjusted for differences in purchasing power (in international dollars, fixed for 2017 prices)\n",
    "- income_level: The world is divided into four income levels. Level 1 represents individuals living in extreme poverty, earning less than 2 dollars per day. At Level 2, individuals earn between 2 and 8 dollars per day. Level 3 includes those living on incomes ranging from 8 to 32 dollars per day, while Level 4 comprises individuals earning more than 32 dollars daily\n",
    "- life_exp: Life expectancy for a given country in a given year\n",
    "- co2: Carbon dioxide emissions per person from the burning of fossil fuels (metric tonnes of CO2 per person)\n",
    "- co2_change: Indicator of whether the carbon dioxide emissions per person from the burning of fossil fuels has increased or decreased since 2007 (10 year span)\n",
    "- population: Population of the country, in millions"
   ]
  },
  {
   "cell_type": "markdown",
   "metadata": {
    "application/vnd.databricks.v1+cell": {
     "cellMetadata": {},
     "inputWidgets": {},
     "nuid": "321f9752-c115-404f-adcc-9031e2acb4dc",
     "showTitle": false,
     "title": ""
    },
    "id": "zDrb-k4FHpP9"
   },
   "source": [
    "Citation:\n",
    "\n",
    "Zieffler, A. (2022). GAPMINDER. Github. https://zief0002.github.io/miniature-garbanzo/codebooks/gapminder.html\n"
   ]
  },
  {
   "cell_type": "code",
   "execution_count": 0,
   "metadata": {
    "application/vnd.databricks.v1+cell": {
     "cellMetadata": {},
     "inputWidgets": {},
     "nuid": "0f3389f1-5a6b-4c85-b8c6-415551157f35",
     "showTitle": false,
     "title": ""
    },
    "id": "T1oDnydFUQsv"
   },
   "outputs": [],
   "source": [
    "# Read csv file\n",
    "df2 = pd.read_csv(\"https://raw.githubusercontent.com/zief0002/miniature-garbanzo/main/data/gapminder.csv\")\n"
   ]
  },
  {
   "cell_type": "markdown",
   "metadata": {
    "application/vnd.databricks.v1+cell": {
     "cellMetadata": {},
     "inputWidgets": {},
     "nuid": "bf9621c9-7578-45ab-b6f8-8c7602c1ad39",
     "showTitle": false,
     "title": ""
    },
    "id": "uOIEh3lRXPtc"
   },
   "source": [
    "## 2. Display the first five rows of the data"
   ]
  },
  {
   "cell_type": "code",
   "execution_count": 0,
   "metadata": {
    "application/vnd.databricks.v1+cell": {
     "cellMetadata": {},
     "inputWidgets": {},
     "nuid": "9d051d8e-626e-4946-8f35-af8bbfa02f16",
     "showTitle": false,
     "title": ""
    },
    "colab": {
     "base_uri": "https://localhost:8080/",
     "height": 206
    },
    "id": "yDHbrASbXHwE",
    "outputId": "d4f9095d-77a9-4fe5-afb2-9bf1599de5ce"
   },
   "outputs": [],
   "source": [
    "# List first 5 records\n",
    "df2.head(5)"
   ]
  },
  {
   "cell_type": "markdown",
   "metadata": {
    "application/vnd.databricks.v1+cell": {
     "cellMetadata": {},
     "inputWidgets": {},
     "nuid": "dc2db4a1-d32c-484e-b194-70d80861b8c2",
     "showTitle": false,
     "title": ""
    },
    "id": "Zyk_ZvY8JQT2"
   },
   "source": [
    "## 3. Create a visualization using one (or two) variables from this data"
   ]
  },
  {
   "cell_type": "code",
   "execution_count": 0,
   "metadata": {
    "application/vnd.databricks.v1+cell": {
     "cellMetadata": {},
     "inputWidgets": {},
     "nuid": "f3e07978-cf70-4d21-894a-be324b4429a7",
     "showTitle": false,
     "title": ""
    },
    "colab": {
     "base_uri": "https://localhost:8080/",
     "height": 467
    },
    "id": "BSJ0j04EEO8p",
    "outputId": "949b54ef-d06f-4dba-cb79-1a768d6f9cb8"
   },
   "outputs": [],
   "source": [
    "# Create a histogram using the income_level column\n",
    "df2['income_level'].hist()\n",
    "plt.xlabel('Income Levels')\n",
    "plt.ylabel('Count')\n"
   ]
  },
  {
   "cell_type": "code",
   "execution_count": 0,
   "metadata": {
    "application/vnd.databricks.v1+cell": {
     "cellMetadata": {},
     "inputWidgets": {},
     "nuid": "64b46809-0515-4815-8fb9-4f795b70f619",
     "showTitle": false,
     "title": ""
    },
    "colab": {
     "base_uri": "https://localhost:8080/",
     "height": 490
    },
    "id": "svPRX6c2JRyl",
    "outputId": "51a31cdc-24c6-4e8f-d954-54d3128d363f"
   },
   "outputs": [],
   "source": [
    "# Create a scatterplots\n",
    "plt.scatter(df2['income'], df2['life_exp'])\n",
    "plt.title(\"Income and Life Expectancy\")\n",
    "plt.xlabel(\"Income\")\n",
    "plt.ylabel(\"Life expectancy\")\n"
   ]
  },
  {
   "cell_type": "code",
   "execution_count": 0,
   "metadata": {
    "application/vnd.databricks.v1+cell": {
     "cellMetadata": {},
     "inputWidgets": {},
     "nuid": "4bad21b7-25f1-4624-a104-008a5a2737c9",
     "showTitle": false,
     "title": ""
    }
   },
   "outputs": [],
   "source": [
    "# Test"
   ]
  }
 ],
 "metadata": {
  "application/vnd.databricks.v1+notebook": {
   "dashboards": [],
   "language": "python",
   "notebookMetadata": {
    "pythonIndentUnit": 4
   },
   "notebookName": "HW1_FionaFang",
   "widgets": {}
  },
  "colab": {
   "provenance": [],
   "toc_visible": true
  },
  "kernelspec": {
   "display_name": "Python 3 (ipykernel)",
   "language": "python",
   "name": "python3"
  },
  "language_info": {
   "codemirror_mode": {
    "name": "ipython",
    "version": 3
   },
   "file_extension": ".py",
   "mimetype": "text/x-python",
   "name": "python",
   "nbconvert_exporter": "python",
   "pygments_lexer": "ipython3",
   "version": "3.11.4"
  }
 },
 "nbformat": 4,
 "nbformat_minor": 0
}
